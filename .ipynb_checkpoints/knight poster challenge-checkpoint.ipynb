{
 "cells": [
  {
   "cell_type": "markdown",
   "metadata": {
    "deletable": true,
    "editable": true
   },
   "source": [
    "# Knight Filter\n",
    "\n",
    "The below code takes the NGSD Knight and converts it to the black and white scale. Analyze how the code turns the colored image to the black and white scale. If all a pixels values for Red, Green, and Blue are the same ...the color will be on the black - grey - white scale. [0,0,0] being black ,[125,125,125] being grey, and [255,255,255] being white.\n",
    "\n",
    "<b> Your challenge </b> is to modify the below code to keep the blue pixels (the cape, feather, and sash) blue in the final image but the remaining pixels black and white.\n",
    "\n",
    "After you figure that one out...try modifying the football image in the directory to go from the image in full color to a black and white image with the blue in players' uniforms remaining blue.\n",
    "\n",
    "Like this.\n",
    "\n",
    "<img src= \"NGSD_Football.jpeg\">\n",
    "<img src= \"Football_Altered.png\">\n",
    "\n",
    "\n",
    "Good luck."
   ]
  },
  {
   "cell_type": "code",
   "execution_count": 2,
   "metadata": {
    "collapsed": false,
    "deletable": true,
    "editable": true
   },
   "outputs": [
    {
     "ename": "SyntaxError",
     "evalue": "invalid syntax (<ipython-input-2-73d28270a3c4>, line 18)",
     "output_type": "error",
     "traceback": [
      "\u001b[1;36m  File \u001b[1;32m\"<ipython-input-2-73d28270a3c4>\"\u001b[1;36m, line \u001b[1;32m18\u001b[0m\n\u001b[1;33m    if img[r][c][2]>img[r][c][0]\u001b[0m\n\u001b[1;37m                                ^\u001b[0m\n\u001b[1;31mSyntaxError\u001b[0m\u001b[1;31m:\u001b[0m invalid syntax\n"
     ]
    }
   ],
   "source": [
    "%matplotlib inline\n",
    "import matplotlib.pyplot as plt \n",
    "import os.path\n",
    "import numpy as np      # “as” lets us use standard abbreviations\n",
    "'''Read the image data'''\n",
    "directory = os.getcwd()\n",
    "filename = os.path.join(directory, 'NGSD_Knight.png')\n",
    "# Read the image data into an array\n",
    "img = plt.imread(filename)\n",
    "\n",
    "fig, ax = plt.subplots(1, 1)\n",
    "\n",
    "height = len(img)\n",
    "width = len(img[0])\n",
    "\n",
    "for r in range(height):\n",
    "    for c in range(width):\n",
    "        if img[r][c][2]>img[r][c][0]:\n",
    "            if img[r][c][2]>img[r][c][1]\n",
    "                img[r][c][1]=img[r][c][0]\n",
    "                img[r][c][2]=img[r][c][0]\n",
    "\n",
    "\n",
    "# Show the image data in a subplot\n",
    "ax.imshow(img, interpolation='none')\n",
    "# Show the figure on the screen"
   ]
  },
  {
   "cell_type": "code",
   "execution_count": null,
   "metadata": {
    "collapsed": false,
    "deletable": true,
    "editable": true
   },
   "outputs": [],
   "source": []
  }
 ],
 "metadata": {
  "kernelspec": {
   "display_name": "Python 2",
   "language": "python",
   "name": "python2"
  },
  "language_info": {
   "codemirror_mode": {
    "name": "ipython",
    "version": 2
   },
   "file_extension": ".py",
   "mimetype": "text/x-python",
   "name": "python",
   "nbconvert_exporter": "python",
   "pygments_lexer": "ipython2",
   "version": "2.7.13"
  }
 },
 "nbformat": 4,
 "nbformat_minor": 0
}
